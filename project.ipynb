{
 "cells": [
  {
   "cell_type": "markdown",
   "metadata": {},
   "source": [
    "# Deep Learning for the Physical Layer - Encoders\n",
    "\n",
    "The goal of this notebook is to implement the autoencoder presented by [O'Shea and Hoydis, 2017](https://arxiv.org/pdf/1702.00832.pdf)."
   ]
  },
  {
   "cell_type": "markdown",
   "metadata": {},
   "source": [
    "We use pytorch to implement the autoencoder presented in the paper"
   ]
  },
  {
   "cell_type": "code",
   "execution_count": 1,
   "metadata": {},
   "outputs": [],
   "source": [
    "import torch\n",
    "import torch.nn as nn\n",
    "import torch.nn.functional as F\n",
    "import torch.optim as optim\n",
    "\n",
    "import numpy as np\n",
    "import math\n",
    "# To make the plots\n",
    "import matplotlib.pyplot as plt\n",
    "%matplotlib inline\n",
    "# To do block encoding (Hamming)\n",
    "import sk_dsp_comm.fec_block as block\n",
    "# To supress some strange output at runtime\n",
    "from IPython.utils import io"
   ]
  },
  {
   "cell_type": "markdown",
   "metadata": {},
   "source": [
    "If possible we are going to use GPU to train faster"
   ]
  },
  {
   "cell_type": "code",
   "execution_count": 2,
   "metadata": {},
   "outputs": [
    {
     "name": "stdout",
     "output_type": "stream",
     "text": [
      "Pytorch device: cuda:0\n"
     ]
    }
   ],
   "source": [
    "device = torch.device('cuda:0' if torch.cuda.is_available() else 'cpu')\n",
    "print('Pytorch device: %s' % (device))"
   ]
  },
  {
   "cell_type": "markdown",
   "metadata": {},
   "source": [
    "Implementing the encoder with pytorch"
   ]
  },
  {
   "cell_type": "code",
   "execution_count": 3,
   "metadata": {},
   "outputs": [],
   "source": [
    "class Encoder(nn.Module):\n",
    "    \"\"\"\n",
    "    This is going to be the definition of the encoder.\n",
    "    The encoder in the paper is implemented with Tensorflow\n",
    "    Layers in Tensorflow:\n",
    "      - Dense + ReLU. Out M\n",
    "      - Dense + linear. Out n\n",
    "      - Normalization (some normalization defined by the paper) Out n\n",
    "    Layers equivalent in Pytorch:\n",
    "      - Linear + ReLU. Out M\n",
    "      - Linear + (nothing). Out n\n",
    "      - Normalization (some normalization defined by the paper). Is gonna be done in forward function. Out n\n",
    "    \"\"\"\n",
    "    def __init__(self, m, n):\n",
    "        \"\"\"\n",
    "        Initialization of the encoder\n",
    "        \n",
    "        Args:\n",
    "          m (int): Transmitter can have up to M different messages. Each of this messages gets encoded\n",
    "          n (int): Length of the encoding\n",
    "        \"\"\"\n",
    "        super(Encoder, self).__init__()\n",
    "        \n",
    "        self.linear_M = nn.Sequential(\n",
    "            nn.Linear(in_channels=m, out_channels=m),\n",
    "            nn.ReLU(),\n",
    "        )\n",
    "        \n",
    "        self.linear_N = nn.Sequential(\n",
    "            nn.Linear(in_channels=m, out_channels=n),\n",
    "        )\n",
    "        \n",
    "        self.n = n\n",
    "        \n",
    "    def forward(self, x):\n",
    "        \"\"\"\n",
    "        Forward pass over x\n",
    "        \n",
    "        Args:\n",
    "          x of shape (batch_size, M): Messages that are going to be encoded\n",
    "        \n",
    "        Returns:\n",
    "          y of shape (batch_size, n): Encoded messages\n",
    "        \"\"\"\n",
    "        x = self.linear_M(x)\n",
    "        x = self.linear_N(x)\n",
    "        \n",
    "        # Doing the normalization to get the final result\n",
    "        normalization_term = torch.sqrt(n)/torch.sum(torch.sqrt(x**2), dim=1)\n",
    "        y = x*normalization_term\n",
    "        \n",
    "        return y"
   ]
  },
  {
   "cell_type": "markdown",
   "metadata": {},
   "source": [
    "Implementing the decoder with pytorch"
   ]
  },
  {
   "cell_type": "code",
   "execution_count": 4,
   "metadata": {},
   "outputs": [],
   "source": [
    "class Decoder(nn.Module):\n",
    "    \"\"\"\n",
    "    This is going to be the definition of the decoder.\n",
    "    The decoder in the paper is implemented with Tensorflow\n",
    "    Layers in Tensorflow:\n",
    "      - Dense + ReLU. Out M\n",
    "      - Dense + Softmax. Out M\n",
    "    Layers equivalent in Pytorch:\n",
    "      - Linear + ReLU. Out M\n",
    "      - Linear + (ommited). Out M\n",
    "      Softmax is going to be ommited to use pytorch loss function CrossEntropyLoss\n",
    "      CrossEntropyLoss combines LogSoftmax and NLLLoss (Negative Log Likelihood) in one single class.\n",
    "    \"\"\"\n",
    "    def __init__(self, m, n):\n",
    "        \"\"\"\n",
    "        Initialization of the decoder\n",
    "        \n",
    "        Args:\n",
    "          m (int): Transmitter can have up to M different messages. Need to decide between this many messages\n",
    "          n (int): Length of the encoding\n",
    "        \"\"\"\n",
    "        super(Decoder, self).__init__()\n",
    "        \n",
    "        self.linear_relu = nn.Sequential(\n",
    "            nn.Linear(in_channels=n, out_channels=m),\n",
    "            nn.ReLU(),\n",
    "        )\n",
    "        \n",
    "        self.linear_out = nn.Sequential(\n",
    "            nn.Linear(in_channels=m, out_channels=m),\n",
    "        )\n",
    "        \n",
    "    def forward(self, x):\n",
    "        \"\"\"\n",
    "        Forward pass over x\n",
    "        \n",
    "        Args:\n",
    "          x of shape (batch_size, n): Encoded messages\n",
    "        \n",
    "        Returns:\n",
    "          y of shape (batch_size, M): Decoded messages\n",
    "        \"\"\"\n",
    "        x = self.linear_relu(x)\n",
    "        x = self.linear_out(x)\n",
    "        \n",
    "        return y"
   ]
  },
  {
   "cell_type": "code",
   "execution_count": 5,
   "metadata": {},
   "outputs": [],
   "source": [
    "def block_encoder(x, n, k):\n",
    "    \"\"\"\n",
    "    This is going to be the definition of encoding using Hamming\n",
    "    Args:\n",
    "        x of shape (batch_size, k): Messages without encoding\n",
    "        n (int): Length of the encoded messages\n",
    "        k (int): Length of the actual messages\n",
    "        \n",
    "    Returns:\n",
    "        y of shape (batch_size, n): Encoded messages with Hamming\n",
    "    \"\"\"\n",
    "    # There is no need for encoding\n",
    "    if n == k:\n",
    "        # Return as float because that the way encoder.hamm_encoder returns it\n",
    "        return x\n",
    "    \n",
    "    # We initialize the encoder with the number of parity bits that we need\n",
    "    # According to doc from block.fec_hamming\n",
    "    # Initialized with j. Where n = 2^j-1. k = n-j.\n",
    "    encoder = block.fec_hamming(n-k)\n",
    "    \n",
    "    # Get the batch size and pre-allocate adequate space for it\n",
    "    batch_size, _ = x.shape\n",
    "    encoding_results = np.zeros((batch_size, n), dtype=int)\n",
    "    \n",
    "    # Iterate over the batches and get the encoding for all of them\n",
    "    for i, x_vec in enumerate(x):\n",
    "        encoding_results[i, :] = encoder.hamm_encoder(x_vec)\n",
    "    \n",
    "    return encoding_results"
   ]
  },
  {
   "cell_type": "code",
   "execution_count": 6,
   "metadata": {},
   "outputs": [],
   "source": [
    "def block_decoder(y, n, k):\n",
    "    \"\"\"\n",
    "    This is going to be the definition of decoding using Hamming\n",
    "    Args:\n",
    "        x of shape (batch_size, n): Encoded messages\n",
    "        n (int): Length of the encoded messages\n",
    "        k (int): Length of the actual messages\n",
    "        \n",
    "    Returns:\n",
    "        y of shape (batch_size, k): Decoded messages with Hamming\n",
    "    \"\"\"\n",
    "    # There is no need for decoding\n",
    "    if n == k:\n",
    "        # Return as float because that the way encoder.hamm_decoder returns it\n",
    "        return y\n",
    "    \n",
    "    # We initialize the decoder with the number of parity bits that we need\n",
    "    # According to doc from block.fec_hamming\n",
    "    # Initialized with j. Where n = 2^j-1. k = n-j.\n",
    "    decoder = block.fec_hamming(n-k)\n",
    "    \n",
    "    # Get the batch size and pre-allocate adequate space for it\n",
    "    batch_size, _ = y.shape\n",
    "    decoding_results = np.zeros((batch_size, k), dtype=int)\n",
    "    \n",
    "    # Iterate over the batches and get the encoding for all of them\n",
    "    for i, y_vec in enumerate(y):\n",
    "        decoding_results[i, :] = decoder.hamm_decoder(y_vec)\n",
    "    \n",
    "    return decoding_results"
   ]
  },
  {
   "cell_type": "markdown",
   "metadata": {},
   "source": [
    "Test visually our encoder and decoder"
   ]
  },
  {
   "cell_type": "code",
   "execution_count": 7,
   "metadata": {},
   "outputs": [
    {
     "name": "stdout",
     "output_type": "stream",
     "text": [
      "Sample x\n",
      "[[1 0 0 1]\n",
      " [0 0 0 1]]\n",
      "(7,4) hamming code object\n",
      "y1. Encoded x with Hamming(7,4)\n",
      "[[1 0 0 1 0 1 0]\n",
      " [0 0 0 1 1 0 1]]\n",
      "(7,4) hamming code object\n",
      "z1. Decoded y1\n",
      "[[1 0 0 1]\n",
      " [0 0 0 1]]\n",
      "y2. Not encoded x\n",
      "[[1 0 0 1]\n",
      " [0 0 0 1]]\n",
      "z2. Decoded y2\n",
      "[[1 0 0 1]\n",
      " [0 0 0 1]]\n"
     ]
    }
   ],
   "source": [
    "x = np.array([[1, 0, 0, 1], [0, 0, 0, 1]])\n",
    "print(\"Sample x\")\n",
    "print(x)\n",
    "y1 = block_encoder(x, 7, 4)\n",
    "print(\"y1. Encoded x with Hamming(7,4)\")\n",
    "print(y1)\n",
    "z1 = block_decoder(y1, 7, 4)\n",
    "print(\"z1. Decoded y1\")\n",
    "print(z1)\n",
    "\n",
    "print(\"y2. Not encoded x\")\n",
    "y2 = block_encoder(x, 4, 4)\n",
    "print(y2)\n",
    "z2 = block_decoder(y2, 4, 4)\n",
    "print(\"z2. Decoded y2\")\n",
    "print(z2)"
   ]
  },
  {
   "cell_type": "code",
   "execution_count": 8,
   "metadata": {},
   "outputs": [],
   "source": [
    "def channel(x, n, k, snr_db):\n",
    "    \"\"\"\n",
    "    Definition of the channel. e.g. Add AWGN to the samples\n",
    "    Args:\n",
    "        x of shape (batch_size, k): Encoded messages\n",
    "        n (int): Length of the encoded messages\n",
    "        k (int): Length of the actual messages\n",
    "        snr_db (float): SNR to add noise\n",
    "        \n",
    "    Returns:\n",
    "        x_channel of shape (batch_size, k): x with npose\n",
    "    \"\"\"\n",
    "    snr_lin = 10**(snr_db/10)\n",
    "    rate = k/n\n",
    "    n0 = 1/(snr_lin*rate)\n",
    "    var_channel = math.sqrt(n0/2)\n",
    "    \n",
    "    if torch.is_tensor(x):\n",
    "        x_channel = x + var_channel*torch.randn_like(x)\n",
    "    else:\n",
    "        x_channel = x + var_channel*np.random.randn(*x.shape)\n",
    "    \n",
    "    return x_channel"
   ]
  },
  {
   "cell_type": "code",
   "execution_count": 9,
   "metadata": {},
   "outputs": [
    {
     "name": "stdout",
     "output_type": "stream",
     "text": [
      "Sample x\n",
      "[[1 0 0 1]\n",
      " [0 0 0 1]]\n",
      "Noisy x\n",
      "[[ 0.91123754  0.70689264  0.08974296  1.01295353]\n",
      " [ 0.1588484  -0.39886295  0.13586253  1.29136234]]\n"
     ]
    }
   ],
   "source": [
    "print(\"Sample x\")\n",
    "print(x)\n",
    "x_channel = channel(x, 7, 4, 8)\n",
    "print(\"Noisy x\")\n",
    "print(x_channel)"
   ]
  },
  {
   "cell_type": "code",
   "execution_count": 10,
   "metadata": {},
   "outputs": [],
   "source": [
    "def bpsk_communication(x, n, k, snr_db):\n",
    "    # Encode the messages using Hamming\n",
    "    x_encoded = block_encoder(x, n, k)\n",
    "    \n",
    "    # Signal vector to transmit (modulation)\n",
    "    s_transmit = 2*x_encoded - 1\n",
    "    \n",
    "    # Add the noise\n",
    "    s_noise = channel(s_transmit, n, k, snr_db)\n",
    "    \n",
    "    # Demoludation of the signal\n",
    "    y = np.sign(s_noise)\n",
    "    y_enc = (y + 1)/2\n",
    "\n",
    "    # Decode them using Hamming\n",
    "    y_decoded = block_decoder(y_enc.astype(int), n, k)\n",
    "    \n",
    "    return y_decoded"
   ]
  },
  {
   "cell_type": "code",
   "execution_count": 11,
   "metadata": {},
   "outputs": [],
   "source": [
    "def bler(x, y):\n",
    "    # Get the total number of messages\n",
    "    batch_size, _ = x.shape\n",
    "    \n",
    "    # Check where are the errors between received and transmitted\n",
    "    errors = (x != y)\n",
    "    # How many errors per block\n",
    "    errors_block = errors.sum(axis=1)\n",
    "    # If there was an error in the block count it as bad block\n",
    "    total_errors = (errors_block > 0).sum()\n",
    "\n",
    "    return total_errors/batch_size"
   ]
  },
  {
   "cell_type": "markdown",
   "metadata": {},
   "source": [
    "Small test for BPSK communication and BLER"
   ]
  },
  {
   "cell_type": "code",
   "execution_count": 12,
   "metadata": {},
   "outputs": [
    {
     "name": "stdout",
     "output_type": "stream",
     "text": [
      "Transmitted x\n",
      "[[1 0 0 1]\n",
      " [0 0 0 1]]\n",
      "(7,4) hamming code object\n",
      "(7,4) hamming code object\n",
      "Received x\n",
      "[[1 0 0 1]\n",
      " [0 0 0 1]]\n",
      "BLER\n",
      "0.0\n"
     ]
    }
   ],
   "source": [
    "print(\"Transmitted x\")\n",
    "print(x)\n",
    "x_rx = bpsk_communication(x, 7, 4, 8)\n",
    "print(\"Received x\")\n",
    "print(x_rx)\n",
    "print(\"BLER\")\n",
    "print(bler(x, x_rx))"
   ]
  },
  {
   "cell_type": "code",
   "execution_count": 13,
   "metadata": {},
   "outputs": [
    {
     "name": "stdout",
     "output_type": "stream",
     "text": [
      "Finished calculations for BPSK(4, 4)\n",
      "Finished calculations for BPSK(7, 4)\n",
      "Finished calculations for BPSK(8, 8)\n",
      "Finished calculations for BPSK(2, 2)\n"
     ]
    }
   ],
   "source": [
    "# Defining the hamming encoding sizes (n, k)\n",
    "hamming_sizes = [(4, 4), (7, 4), (8, 8), (2, 2)]\n",
    "snrs_db = np.arange(-4, 10, 1)\n",
    "n_blocks = 200000\n",
    "\n",
    "results_y = np.zeros((len(hamming_sizes), len(snrs_db)))\n",
    "\n",
    "for hamm_n, (n, k) in enumerate(hamming_sizes):\n",
    "    x = np.random.randint(0, 2, size=(n_blocks, k))\n",
    "    for snr_n, snr_db in enumerate(snrs_db):\n",
    "        # Strange output from library sk_dsp_comm.fec_block when doing hamming coding\n",
    "        # e.g. (7,4) hamming code object\n",
    "        # Supressing such output with this line\n",
    "        with io.capture_output() as captured:\n",
    "            x_rec = bpsk_communication(x, n, k, snr_db)\n",
    "        block_bler = bler(x, x_rec)\n",
    "        results_y[hamm_n, snr_n] = block_bler\n",
    "    print(\"Finished calculations for BPSK(%d, %d)\" % (n, k))"
   ]
  },
  {
   "cell_type": "code",
   "execution_count": 14,
   "metadata": {},
   "outputs": [
    {
     "data": {
      "image/png": "[encoded data removed]",
      "text/plain": [
       "<Figure size 720x480 with 1 Axes>"
      ]
     },
     "metadata": {},
     "output_type": "display_data"
    }
   ],
   "source": [
    "plt.figure(figsize=(9, 6), dpi= 80, facecolor='w')\n",
    "plt.semilogy(snrs_db, results_y[0,:])\n",
    "plt.semilogy(snrs_db, results_y[1,:])\n",
    "plt.semilogy(snrs_db, results_y[2,:])\n",
    "plt.semilogy(snrs_db, results_y[3,:])\n",
    "plt.grid(True)\n",
    "plt.legend(('BPSK (4, 4)','BPSK (7, 4)', 'BPSK (8, 8)', 'BPSK (2, 2)'))\n",
    "plt.xlabel('Eb/No (dB)')\n",
    "plt.ylabel('BER')\n",
    "plt.show()"
   ]
  },
  {
   "cell_type": "code",
   "execution_count": null,
   "metadata": {},
   "outputs": [],
   "source": []
  }
 ],
 "metadata": {
  "kernelspec": {
   "display_name": "Python 3",
   "language": "python",
   "name": "python3"
  },
  "language_info": {
   "codemirror_mode": {
    "name": "ipython",
    "version": 3
   },
   "file_extension": ".py",
   "mimetype": "text/x-python",
   "name": "python",
   "nbconvert_exporter": "python",
   "pygments_lexer": "ipython3",
   "version": "3.6.9"
  }
 },
 "nbformat": 4,
 "nbformat_minor": 4
}
