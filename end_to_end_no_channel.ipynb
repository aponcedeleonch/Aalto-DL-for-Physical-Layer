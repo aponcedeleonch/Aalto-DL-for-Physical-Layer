{
 "cells": [
  {
   "cell_type": "markdown",
   "metadata": {},
   "source": [
    "# 2. End-to-End Learning of Communications Systems Without a Channel Model - Reinforcement Learning\n",
    "\n",
    "The goal of this notebook is to implement the models presented by [Aoudia and Hoydis, 2018](https://arxiv.org/pdf/1804.02276.pdf).\n",
    "\n",
    "We use pytorch to implement the approach presented in the paper"
   ]
  },
  {
   "cell_type": "code",
   "execution_count": 1,
   "metadata": {},
   "outputs": [],
   "source": [
    "import torch\n",
    "import torch.nn.functional as F\n",
    "import torch.optim as optim\n",
    "\n",
    "import numpy as np\n",
    "import math\n",
    "\n",
    "# To make the plots\n",
    "import matplotlib.pyplot as plt\n",
    "%matplotlib inline\n",
    "\n",
    "from IPython import display"
   ]
  },
  {
   "cell_type": "markdown",
   "metadata": {},
   "source": [
    "If possible we are going to use GPU to train faster"
   ]
  },
  {
   "cell_type": "code",
   "execution_count": 2,
   "metadata": {},
   "outputs": [
    {
     "name": "stdout",
     "output_type": "stream",
     "text": [
      "Pytorch device: cuda:0\n"
     ]
    }
   ],
   "source": [
    "device = torch.device('cuda:0' if torch.cuda.is_available() else 'cpu')\n",
    "print('Pytorch device: %s' % (device))"
   ]
  },
  {
   "cell_type": "markdown",
   "metadata": {},
   "source": [
    "The models implemented in Pytorch and other necessary utilities are loaded from different files. This is done to have a single point of modification and the modules can be used in different places. It also helps us to keep this notebook as clean as possible and focus on the results."
   ]
  },
  {
   "cell_type": "code",
   "execution_count": 3,
   "metadata": {},
   "outputs": [],
   "source": [
    "from models import Transmitter, Receiver, Policy\n",
    "from utils import plot_constellation, count_errors, MemoryMessages, recover_models\n",
    "from comms_utils import channel"
   ]
  },
  {
   "cell_type": "markdown",
   "metadata": {},
   "source": [
    "All the pretrained models are located at this folder. Also if we use this notebook to train a new model is going to be saved at this folder"
   ]
  },
  {
   "cell_type": "code",
   "execution_count": 4,
   "metadata": {},
   "outputs": [],
   "source": [
    "MODELS_FOLDER = 'trained_models'"
   ]
  },
  {
   "cell_type": "markdown",
   "metadata": {},
   "source": [
    "This is a flag tha indicates if the notebook should train the models. If the flag is False then it is assumed we have some pre-trained models"
   ]
  },
  {
   "cell_type": "code",
   "execution_count": 5,
   "metadata": {},
   "outputs": [],
   "source": [
    "train = True"
   ]
  },
  {
   "cell_type": "markdown",
   "metadata": {},
   "source": [
    "### Implementation of approach without a channel model\n",
    "\n",
    "Just as in Autoencoders and traditional communications we have a Transmitter (Tx), a channel and a Receiver (Rx). \n",
    "\n",
    "The Tx can take up to $M$ possible messasges and find a representation in $n$ possible bits of each message $m$. To transmit $M$ messages we need at least $k = \\text{log}_2(M)$ bits. Traditionally this is the notation used in communications to present encoders $(n, k)$, which means $k$ bits encoded into $n$ bits. Traditionally $n \\geq k$ to have redundancy bits that can help us in error checking on the reciever side.\n",
    "\n",
    "The Rx takes $n$ bits and tries to guess the original $m$ message. Normally this is presented as a conditional probability $p(y|x)$ where $y$ is the received message and $x$ the original one.\n",
    "\n",
    "Autoencoders rely on having a differentiable channel and then knowing the gradient of such channel. This does not represents accurately communications systems in which most of the time we do not have a model of the channel and much less a gradient over it. To overcome this difficulty the approach proposed by the paper is to have a feedback from the receiver to the transmitter. Then the transmitter can calculate a loss value without knowing the gradient of the channel. \n",
    "\n",
    "The training of the whole system can be divided in two main phases:\n",
    "- Training of the transmitter\n",
    "- Training of the receiver\n",
    "\n",
    "Since the training loop alternates between these two phases we are going to refer to it as **Alternating training**.\n",
    "\n",
    "#### Training of the receiver\n",
    "\n",
    "Training the transmitter is Supervised learning task. The receiver, just as the autoencoder, outputs a set of probabilities. The probability of the $i^{th}$ example that went in the receiver belongs to each $m$ message. Since we also know which are the correct labels for the $i^{th}$ (original transmitted messages) then we can use a Negative Log Likelihood loss function. The original paper suggests using Cross Entropy loss function. Cross Entropy is nothing more than the combination of Log Softmax function with Negative Log Likelihood. So in the end we are in fact using Cross Entropy.\n",
    "\n",
    "#### Training of the transmitter\n",
    "\n",
    "The transmitter uses three parts for calculating its loss\n",
    "- *Per example loss*. This is the feedback from the receiver. Is the negative log likelihood of each received example\n",
    "- $x_p$. The transmitter outputs $x$ and a function generates $x_p$\n",
    "- The log probability of $x_p$ according to some policy $\\pi(x_p|\\cdot)$\n",
    "\n",
    "In the paper the training of the transmitter is referred as a Reinforcement Learning approach. I do not consider it entirely as such since the policy that is used does not have learnable parameters. It is a static policy. The policy used is a Multivariate Gaussian distribution. It takes in $x_p$ and outputs it's probability according to the Gaussian distribution. The covariance matrix of the Gaussian distribution never changes and the mean of it depends entirely on $x$ as we will soon see. In a traditional Policy Gradient Reinforcement Learning approach the purpose is to tune the parameters of the policy (in this case the mean and variance) to get better results.\n",
    "\n",
    "The policy has a static parameter $\\sigma_{\\pi}^2$ that is not learnable. We use it to first generate $x_p$\n",
    "$$\n",
    "\\begin{aligned}\n",
    "x_p &= \\sqrt{1 - \\sigma_{\\pi}^2}x + w \\\\\n",
    "w &\\sim \\mathcal{C}\\mathcal{N}(0, \\sigma_{\\pi}^2I)\n",
    "\\end{aligned}\n",
    "$$\n",
    "Where $x$ is the output of the transmitter.\n",
    "\n",
    "Then the policy $\\pi(x_p|\\cdot)$ has as mean and covariance matrix\n",
    "$$\n",
    "\\begin{aligned}\n",
    "\\mu_{\\pi} &= \\sqrt{1 - \\sigma_{\\pi}^2}x \\\\\n",
    "\\Sigma_{\\pi} &= \\sigma_{\\pi}^2I\n",
    "\\end{aligned}\n",
    "$$\n",
    "\n",
    "We use this policy to evaluate the built $x_p$ and get its log probability\n",
    "$$\n",
    "\\begin{aligned}\n",
    "\\text{log }\\pi(x_p\\ |\\ \\mu_{\\pi}, \\Sigma_{\\pi})\n",
    "\\end{aligned}\n",
    "$$\n",
    "\n",
    "So then the loss for a batch of size $B$ that that comes out of the transmitter is\n",
    "\n",
    "$$\n",
    "\\begin{aligned}\n",
    "\\frac{1}{B} \\sum_{i=0}^B l_i \\text{log }\\pi(x_{ip}\\ |\\ \\mu_{i\\pi}, \\Sigma_{\\pi})\n",
    "\\end{aligned}\n",
    "$$\n",
    "\n",
    "Where $l_i$ is the Negative Log Likelihood obtained from the $i^{th}$ example at the receiver and $x_{ip}$ and $\\mu_{i\\pi}$ are obtained for every $x_i$ in the batch."
   ]
  },
  {
   "cell_type": "code",
   "execution_count": 6,
   "metadata": {},
   "outputs": [],
   "source": [
    "def train_loop(m=256, n=4, snr_db=10, sigma_var=0.02, chann_type=\"AWGN\", stop_value=0.005,\n",
    "               n_epochs=1000, lr=0.001, batch_size=32, plot=False):\n",
    "    # Get k. Number of bits necessary to transmit the m messages\n",
    "    k = math.log2(m)\n",
    "    \n",
    "    # Initialize the transmitter, receiver and policy\n",
    "    tx = Transmitter(m=m, n=n)\n",
    "    tx.to(device)\n",
    "    rx = Receiver(m=m, n=n)\n",
    "    rx.to(device)\n",
    "    policy = Policy(m=m, n=n, sigma_var=sigma_var)\n",
    "    policy.to(device)\n",
    "    \n",
    "    # Adam optimizer for both rx and tx\n",
    "    tx_optimizer = torch.optim.Adam(tx.parameters(), lr=lr)\n",
    "    rx_optimizer = torch.optim.Adam(rx.parameters(), lr=lr)\n",
    "\n",
    "    # Variables to keep track of training\n",
    "    losses_tx = []\n",
    "    losses_rx = []\n",
    "    avg_losses_tx = []\n",
    "    avg_losses_rx = []\n",
    "    errors_rx = []\n",
    "    errors_tx = []\n",
    "    \n",
    "    for epoch in range(n_epochs):\n",
    "        # Beginning of the epoch. Fill out the memory\n",
    "        messages = MemoryMessages(m)\n",
    "        error_rx = 0\n",
    "        error_tx = 0\n",
    "        \n",
    "        # Until we have something in the memory the epoch has not finished\n",
    "        while len(messages) > 0:\n",
    "            # Sample from the memory that is left\n",
    "            batch, _ = messages.sample(batch_size)\n",
    "            batch_len = len(batch)\n",
    "\n",
    "            # ** Phase 1 of alternated training - Train receiver **\n",
    "            rx_optimizer.zero_grad()\n",
    "            \n",
    "            # To ensure we are not using gradients from the channel\n",
    "            with torch.no_grad():\n",
    "                inputs_rx = torch.from_numpy(batch).unsqueeze(1).to(device)\n",
    "\n",
    "                tx.eval()\n",
    "                x_encoded = tx(inputs_rx)\n",
    "                tx.train()\n",
    "\n",
    "                x_channel = channel(x=x_encoded, n=n, k=k, snr_db=snr_db, chann_type=chann_type)\n",
    "            \n",
    "            # Get only gradients from the receiver\n",
    "            y = rx(x_channel, chann_type=chann_type)\n",
    "            \n",
    "            # Classification task. Supervised training. Check if what we received is correct\n",
    "            targets = torch.from_numpy(batch).to(device)\n",
    "            loss_rx = F.nll_loss(y, targets)\n",
    "            loss_rx.backward()\n",
    "\n",
    "            # Count the errors that we had in this phase\n",
    "            error_rx += count_errors(y, targets)\n",
    "            rx_optimizer.step()\n",
    "        \n",
    "            # ** Phase 2 of alternated training - Train transmitter **\n",
    "            tx_optimizer.zero_grad()\n",
    "            \n",
    "            inputs_tx = torch.from_numpy(batch).unsqueeze(1).to(device)\n",
    "            \n",
    "            # Get gradients from the transmitter and the policy\n",
    "            x_encoded = tx(inputs_tx)\n",
    "            xp, xp_logprob = policy(x_encoded)\n",
    "            \n",
    "            # To ensure we are not using gradients from the channel\n",
    "            with torch.no_grad():\n",
    "                xp_channel = channel(x=xp, n=n, k=k, snr_db=snr_db, chann_type=chann_type)\n",
    "\n",
    "                rx.eval()\n",
    "                y = rx(xp_channel, chann_type=chann_type)\n",
    "                rx.train()\n",
    "                \n",
    "                targets = torch.from_numpy(batch).to(device)\n",
    "                # Get the per example losses at the receiver\n",
    "                per_example_losses = F.nll_loss(y, targets, reduction='none')\n",
    "            \n",
    "            # With the per example losses calculated at the receiver make the loss of the transmitter\n",
    "            # NB the per example losses do not have a gradient (.detach() in Pytorch)\n",
    "            loss_tx = torch.mean(per_example_losses.detach().unsqueeze(1)*xp_logprob.reshape(batch_len, 2*n))\n",
    "            loss_tx.backward()\n",
    "            \n",
    "            # Count the errors that we had in this phase\n",
    "            error_tx += count_errors(y, targets)\n",
    "            \n",
    "            tx_optimizer.step()\n",
    "        \n",
    "        \n",
    "        losses_rx.append(loss_rx.detach().to(\"cpu\").numpy())\n",
    "        losses_tx.append(loss_tx.detach().to(\"cpu\").numpy())\n",
    "        errors_rx.append(error_rx/m)\n",
    "        errors_tx.append(error_tx/m)\n",
    "        \n",
    "        # If the loss is small enough the model has converged. Stop training\n",
    "        last_losses = np.array(losses_rx[-100:])\n",
    "        if np.all(np.array(losses_rx[-100:]) < stop_value):\n",
    "            return tx, rx, errors_rx, errors_tx\n",
    "        \n",
    "        # If we desire to visualize the training we enter this if\n",
    "        if plot is not None:\n",
    "            print(\"Finished epoch: %d. Error rx: %f. Error tx: %f. Loss rx: %f. Loss tx: %f\" % (epoch,\n",
    "                                                                                                errors_rx[-1], errors_tx[-1],\n",
    "                                                                                                losses_rx[-1], losses_tx[-1]), end=\"\\r\")\n",
    "\n",
    "            if epoch > plot:\n",
    "                avg_rx = np.mean(losses_rx[-plot:])\n",
    "                avg_tx = np.mean(losses_tx[-plot:])\n",
    "            else:\n",
    "                avg_rx = np.mean(losses_rx)\n",
    "                avg_tx = np.mean(losses_tx)\n",
    "            avg_losses_rx.append(avg_rx)\n",
    "            avg_losses_tx.append(avg_tx)\n",
    "\n",
    "            # Make a plot of training\n",
    "            if epoch%plot==0 and epoch != 0:\n",
    "                plt.clf()\n",
    "                plt.plot(errors_rx, label=\"Rx errors. Alternating training\")\n",
    "                plt.plot(errors_tx, label=\"Tx errors. Alternating training\")\n",
    "                plt.legend(loc='upper right')\n",
    "                display.clear_output(wait=True)\n",
    "                display.display(plt.gcf())\n",
    "            \n",
    "            if epoch == n_epochs-1:\n",
    "                print()\n",
    "                print(\"Finished training. Error rx: %f. Error tx: %f. Loss rx: %f. Loss tx: %f\" % (errors_rx[-1], errors_tx[-1],\n",
    "                                                                                                   losses_rx[-1], losses_tx[-1]))\n",
    "\n",
    "\n",
    "    return tx, rx, errors_rx, errors_tx"
   ]
  },
  {
   "cell_type": "markdown",
   "metadata": {},
   "source": [
    "This are the original parameters that the paper used for training $(M, n) = (256, 4)$. In a traditional communications notation it is equivalent to $(n, k) = (4, 8)$. This means that the purpose of the trained system is to use 4 bits to represent messages that would need at least 8 bits to be represented. Normally in communcations we try to do the opposite, use more bits $n > k$"
   ]
  },
  {
   "cell_type": "code",
   "execution_count": 20,
   "metadata": {},
   "outputs": [
    {
     "data": {
      "image/png": "[encoded data removed]",
      "text/plain": [
       "<Figure size 432x288 with 1 Axes>"
      ]
     },
     "metadata": {},
     "output_type": "display_data"
    },
    {
     "name": "stdout",
     "output_type": "stream",
     "text": [
      "Finished epoch: 149. Error rx: 0.003906. Error tx: 0.015625. Loss rx: 0.031029. Loss tx: -132.893417\n",
      "Finished training. Error rx: 0.003906. Error tx: 0.015625. Loss rx: 0.031029. Loss tx: -132.893417\n",
      "Models saved in trained_models/AWGN_256_4_tx.pth, trained_models/AWGN_256_4_rx.pth\n"
     ]
    },
    {
     "data": {
      "image/png": "[encoded data removed]",
      "text/plain": [
       "<Figure size 432x288 with 1 Axes>"
      ]
     },
     "metadata": {
      "needs_background": "light"
     },
     "output_type": "display_data"
    }
   ],
   "source": [
    "chann_type = \"AWGN\"\n",
    "m = 256\n",
    "n = 4\n",
    "\n",
    "if train:\n",
    "    tx, rx, _, _ = train_loop(m=m, n=n, snr_db=10, chann_type=chann_type, n_epochs=150, plot=10)\n",
    "\n",
    "    tx_filename = \"%s/%s_%d_%d_tx.pth\" % (MODELS_FOLDER, chann_type, m, n)\n",
    "    rx_filename = \"%s/%s_%d_%d_rx.pth\" % (MODELS_FOLDER, chann_type, m, n)\n",
    "    torch.save(tx.state_dict(), tx_filename)\n",
    "    torch.save(rx.state_dict(), rx_filename)\n",
    "\n",
    "    print(\"Models saved in %s, %s\" % (tx_filename, rx_filename))\n",
    "    \n",
    "    torch.cuda.empty_cache()"
   ]
  },
  {
   "cell_type": "markdown",
   "metadata": {},
   "source": [
    "Now we can watch the constellation generated by our Tx. This is done by getting the encoding for all possible messages and then adding 20 noise samples. So for every $m$ message of $M$ we will plot 20 different samples with noise. After adding the noise we will visualize the constellation using 2 dimensional t-SNE. If the encoder is trained properly we would be able to clearly distinguish between the groups of noisy samples of each $m$ message."
   ]
  },
  {
   "cell_type": "code",
   "execution_count": 8,
   "metadata": {},
   "outputs": [
    {
     "data": {
      "image/png": "[encoded data removed]",
      "text/plain": [
       "<Figure size 792x648 with 1 Axes>"
      ]
     },
     "metadata": {},
     "output_type": "display_data"
    }
   ],
   "source": [
    "fig, ax = plt.subplots(1, 1, figsize=(11, 9), facecolor='w')\n",
    "ax = plot_constellation(m=256, n=4, model=\"alternated\", ax=ax, device=device)"
   ]
  },
  {
   "cell_type": "markdown",
   "metadata": {},
   "source": [
    "Now we can simulate end-to-end communication. We use the pre-trained models to encode a block of messages. First the messages will go through the Tx, then they will go through the channel that will add noise and at the end we will pass them through the Rx. As mentioned before, the Rx will output the probability the received sample corresponds to each $m$ message. We are going to pick the one with highest probability. After this decission we are going to check how many mistakes we had i.e. calculate the Block Error Rate (BLER)."
   ]
  },
  {
   "cell_type": "code",
   "execution_count": 21,
   "metadata": {},
   "outputs": [],
   "source": [
    "def nn_communication(m, n, snr_db, n_blocks, chann_type=\"AWGN\", model=\"supervised\", verbose=False):\n",
    "    enc, dec = recover_models(device, model=model, m=m, n=n, chann_type=chann_type)\n",
    "    \n",
    "    # Print the parameters of our trained models\n",
    "    if verbose: print(\"Models\")\n",
    "    if verbose: print(enc)\n",
    "    if verbose: print(dec)\n",
    "    if verbose: print()\n",
    "\n",
    "    k = math.log2(m)\n",
    "    # We are not training hence not using gradients. Just evaluating\n",
    "    with torch.no_grad():\n",
    "        # Generate as much data as specified in the parameters\n",
    "        data = torch.randint(0, m, (n_blocks, 1)).to(device)\n",
    "        if verbose: print(\"Original x\")\n",
    "        if verbose: print(data)\n",
    "        \n",
    "        # Encode the data (Tx)\n",
    "        enc_data = enc(data)\n",
    "        if verbose: print(\"Encoded x\")\n",
    "        if verbose: print(enc_data)\n",
    "    \n",
    "        # Pass the data through the channel. Add noise\n",
    "        noise_data = channel(enc_data, n, k, snr_db, chann_type=chann_type)\n",
    "        if verbose: print(\"x with noise\")\n",
    "        if verbose: print(noise_data)\n",
    "        \n",
    "        # Decode the data (Rx)\n",
    "        dec_data = dec(noise_data, chann_type=chann_type)\n",
    "        \n",
    "        # The last layer returns probabilites over all possible messages\n",
    "        # Choos the one that has the highest one\n",
    "        data_dec = torch.argmax(dec_data, dim=1).unsqueeze(1)\n",
    "        if verbose: print(\"Recovered x\")\n",
    "        if verbose: print(data_dec)\n",
    "        \n",
    "        # Count the errors that we had\n",
    "        errors = data_dec != data\n",
    "        total_errors = errors.sum().to(\"cpu\").numpy()\n",
    "\n",
    "    # Get the error. Rate of the errrors\n",
    "    bler = total_errors/n_blocks\n",
    "    if verbose: print(\"BLER\")\n",
    "    if verbose: print(bler)\n",
    "\n",
    "    print(\"Finished calculations for channel (%s). SNR dB: %f.\" % (chann_type, snr_db))\n",
    "    return bler"
   ]
  },
  {
   "cell_type": "code",
   "execution_count": 22,
   "metadata": {},
   "outputs": [
    {
     "name": "stdout",
     "output_type": "stream",
     "text": [
      "Models\n",
      "Transmitter(\n",
      "  (transmit): Sequential(\n",
      "    (0): Embedding(256, 256)\n",
      "    (1): ReLU()\n",
      "    (2): Linear(in_features=256, out_features=8, bias=True)\n",
      "  )\n",
      "  (normalization): BatchNorm1d(4, eps=1e-05, momentum=0.1, affine=True, track_running_stats=True)\n",
      ")\n",
      "Receiver(\n",
      "  (receive): Sequential(\n",
      "    (0): Linear(in_features=8, out_features=256, bias=True)\n",
      "    (1): ReLU()\n",
      "    (2): Linear(in_features=256, out_features=256, bias=True)\n",
      "    (3): LogSoftmax()\n",
      "  )\n",
      "  (estimate_h): Sequential(\n",
      "    (0): Linear(in_features=8, out_features=20, bias=True)\n",
      "    (1): Tanh()\n",
      "    (2): Linear(in_features=20, out_features=2, bias=True)\n",
      "  )\n",
      ")\n",
      "\n",
      "Original x\n",
      "tensor([[124],\n",
      "        [ 54],\n",
      "        [187],\n",
      "        [181],\n",
      "        [ 94],\n",
      "        [248],\n",
      "        [144],\n",
      "        [241],\n",
      "        [243],\n",
      "        [212]], device='cuda:0')\n",
      "Encoded x\n",
      "tensor([[[-1.0603, -0.7804],\n",
      "         [-3.1550,  0.3742],\n",
      "         [ 1.1954, -3.9883],\n",
      "         [ 1.3123,  1.3881]],\n",
      "\n",
      "        [[-2.8534, -0.3190],\n",
      "         [-2.7750, -0.8482],\n",
      "         [-1.1436, -1.5230],\n",
      "         [ 0.8136,  3.0270]],\n",
      "\n",
      "        [[-0.0310, -0.1439],\n",
      "         [-2.4237, -0.6460],\n",
      "         [-0.6016, -1.4392],\n",
      "         [ 1.4742,  1.0581]],\n",
      "\n",
      "        [[-0.0549, -0.9103],\n",
      "         [-0.8889, -0.5773],\n",
      "         [-1.7863, -1.5218],\n",
      "         [-0.5447,  0.9439]],\n",
      "\n",
      "        [[-0.3936,  1.4370],\n",
      "         [-1.4442,  0.5031],\n",
      "         [ 0.3706, -1.8702],\n",
      "         [-0.4146,  0.7406]],\n",
      "\n",
      "        [[-1.0538,  0.4520],\n",
      "         [-1.3107,  0.1963],\n",
      "         [-0.7916, -0.1648],\n",
      "         [ 1.1802, -0.4992]],\n",
      "\n",
      "        [[-1.3110, -0.6099],\n",
      "         [ 0.3668,  0.3498],\n",
      "         [ 0.2455, -0.0194],\n",
      "         [ 1.1031,  1.3819]],\n",
      "\n",
      "        [[-3.4581, -0.2963],\n",
      "         [-3.4181,  1.1357],\n",
      "         [ 1.8522, -2.4560],\n",
      "         [-2.4013,  2.5558]],\n",
      "\n",
      "        [[-2.1710, -1.2932],\n",
      "         [-2.4789, -0.4099],\n",
      "         [-0.3769, -3.0968],\n",
      "         [ 0.6672,  3.3071]],\n",
      "\n",
      "        [[-0.7394, -1.1983],\n",
      "         [-1.3529, -0.8554],\n",
      "         [-0.3186, -2.3998],\n",
      "         [-1.9127,  1.5979]]], device='cuda:0')\n",
      "x with noise\n",
      "tensor([[[-0.2038, -1.5493],\n",
      "         [-2.9089,  1.1061],\n",
      "         [ 1.4978, -3.6078],\n",
      "         [ 1.7919,  1.3335]],\n",
      "\n",
      "        [[-3.1206, -0.2032],\n",
      "         [-2.3510, -0.5438],\n",
      "         [-1.3478, -1.8539],\n",
      "         [ 1.2695,  2.7629]],\n",
      "\n",
      "        [[-0.1928, -0.7104],\n",
      "         [-2.4553, -0.2868],\n",
      "         [-0.7019, -2.5271],\n",
      "         [ 1.9287,  1.1062]],\n",
      "\n",
      "        [[-0.5147, -1.3971],\n",
      "         [-1.0226, -0.0432],\n",
      "         [-1.1277, -0.7890],\n",
      "         [-1.6688,  1.6299]],\n",
      "\n",
      "        [[ 0.3060,  1.4514],\n",
      "         [-0.4479,  0.2155],\n",
      "         [ 0.9746, -1.1775],\n",
      "         [-0.0689,  0.7987]],\n",
      "\n",
      "        [[-1.4250,  1.5684],\n",
      "         [-1.2346,  1.0703],\n",
      "         [-0.4828,  0.3553],\n",
      "         [ 1.2606, -0.2567]],\n",
      "\n",
      "        [[-1.4971, -0.2702],\n",
      "         [ 0.2014,  0.3480],\n",
      "         [ 0.8225, -0.0946],\n",
      "         [ 1.6267,  1.8373]],\n",
      "\n",
      "        [[-3.2483,  0.3879],\n",
      "         [-3.5204,  1.4630],\n",
      "         [ 1.5613, -2.5290],\n",
      "         [-2.7234,  3.3408]],\n",
      "\n",
      "        [[-1.8315, -0.6086],\n",
      "         [-1.8465,  0.4740],\n",
      "         [-0.5054, -3.2512],\n",
      "         [ 0.1392,  2.5902]],\n",
      "\n",
      "        [[-0.5413, -1.1410],\n",
      "         [-1.0519, -1.1349],\n",
      "         [-0.8036, -2.1056],\n",
      "         [-2.2980,  1.5315]]], device='cuda:0')\n",
      "Recovered x\n",
      "tensor([[124],\n",
      "        [ 54],\n",
      "        [187],\n",
      "        [ 62],\n",
      "        [ 94],\n",
      "        [248],\n",
      "        [144],\n",
      "        [241],\n",
      "        [219],\n",
      "        [212]], device='cuda:0')\n",
      "BLER\n",
      "0.2\n",
      "Finished calculations for channel (AWGN). SNR dB: 0.000000.\n"
     ]
    }
   ],
   "source": [
    "# Visualize for the alternated approach\n",
    "nn_communication(m=256, n=4, snr_db=0, n_blocks=10, model=\"alternated\", chann_type=\"AWGN\", verbose=True)\n",
    "torch.cuda.empty_cache()"
   ]
  },
  {
   "cell_type": "markdown",
   "metadata": {},
   "source": [
    "## Results\n",
    "\n",
    "We trained our Tx and Rx and a constant noise level of $\\text{SNR}_{\\text{dB}}= 10$. We are going to plot the BLER we obtain from the system with a range of noise levels from -4 to 12"
   ]
  },
  {
   "cell_type": "code",
   "execution_count": 17,
   "metadata": {},
   "outputs": [
    {
     "name": "stdout",
     "output_type": "stream",
     "text": [
      "Finished calculations for channel (AWGN). SNR dB: -4.000000.\n",
      "Finished calculations for channel (AWGN). SNR dB: -3.000000.\n",
      "Finished calculations for channel (AWGN). SNR dB: -2.000000.\n",
      "Finished calculations for channel (AWGN). SNR dB: -1.000000.\n",
      "Finished calculations for channel (AWGN). SNR dB: 0.000000.\n",
      "Finished calculations for channel (AWGN). SNR dB: 1.000000.\n",
      "Finished calculations for channel (AWGN). SNR dB: 2.000000.\n",
      "Finished calculations for channel (AWGN). SNR dB: 3.000000.\n",
      "Finished calculations for channel (AWGN). SNR dB: 4.000000.\n",
      "Finished calculations for channel (AWGN). SNR dB: 5.000000.\n",
      "Finished calculations for channel (AWGN). SNR dB: 6.000000.\n",
      "Finished calculations for channel (AWGN). SNR dB: 7.000000.\n",
      "Finished calculations for channel (AWGN). SNR dB: 8.000000.\n",
      "Finished calculations for channel (AWGN). SNR dB: 9.000000.\n",
      "Finished calculations for channel (AWGN). SNR dB: 10.000000.\n",
      "Finished calculations for channel (AWGN). SNR dB: 11.000000.\n"
     ]
    }
   ],
   "source": [
    "# Defining all noise levels\n",
    "snrs_db = np.arange(-4, 12, 1)\n",
    "\n",
    "# Number of input messages to simulate\n",
    "n_blocks = 300000\n",
    "\n",
    "# To store the resutls\n",
    "results_y = np.zeros(len(snrs_db))\n",
    "\n",
    "# Iterate over all the (n, k) encodings\n",
    "for snr_n, snr_db in enumerate(snrs_db):\n",
    "    # Get the bler using autoencoder\n",
    "    bler_alternated = nn_communication(m=256, n=4, snr_db=snr_db, n_blocks=n_blocks, chann_type=\"AWGN\")\n",
    "    \n",
    "    # Store the results\n",
    "    results_y[snr_n] = bler_alternated\n",
    "    \n",
    "    torch.cuda.empty_cache()"
   ]
  },
  {
   "cell_type": "code",
   "execution_count": 18,
   "metadata": {},
   "outputs": [
    {
     "data": {
      "image/png": "[encoded data removed]",
      "text/plain": [
       "<Figure size 648x504 with 1 Axes>"
      ]
     },
     "metadata": {
      "needs_background": "light"
     },
     "output_type": "display_data"
    }
   ],
   "source": [
    "plt.figure(figsize=(9, 7))\n",
    "plt.semilogy(snrs_db, results_y, label=\"Alternated training\")\n",
    "plt.legend(loc='upper right')\n",
    "plt.grid(True)\n",
    "plt.title(\"Channel (m, n)=(256, 4) (n, k)=(4, 8)\")\n",
    "plt.xlabel('Eb/No (dB)')\n",
    "plt.ylabel('BLER')\n",
    "plt.show()"
   ]
  },
  {
   "cell_type": "code",
   "execution_count": null,
   "metadata": {},
   "outputs": [],
   "source": []
  }
 ],
 "metadata": {
  "kernelspec": {
   "display_name": "Python 3",
   "language": "python",
   "name": "python3"
  },
  "language_info": {
   "codemirror_mode": {
    "name": "ipython",
    "version": 3
   },
   "file_extension": ".py",
   "mimetype": "text/x-python",
   "name": "python",
   "nbconvert_exporter": "python",
   "pygments_lexer": "ipython3",
   "version": "3.6.9"
  }
 },
 "nbformat": 4,
 "nbformat_minor": 4
}
