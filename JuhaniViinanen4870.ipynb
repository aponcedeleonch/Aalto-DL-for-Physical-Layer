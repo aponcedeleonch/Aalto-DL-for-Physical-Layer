{
 "cells": [
  {
   "cell_type": "markdown",
   "metadata": {},
   "source": [
    "# CS-E4870 Research Project in Machine Learning and Data Science\n",
    "**Topic 17: Learning to communicate optimally**\n",
    "\n",
    "**Author: Juhani Viinanen(juhani.viinanen@aalto.fi)**\n",
    "\n",
    "This notebook is a project done for the course CS-E4870 Research Project in Machine Learning and Data Science. The topic of the project itself is the \"learning\" of communication, which in the context of this project means using deep learning techniques to model both the transmitter and  the receiver as deep neural nets that learn to reliably communicate over a noisy channel.\n",
    "\n",
    "The simplest way in which this is done, is to model the whole communication system as an autoencoder. An autoencoder is a type of neural network that learns an efficient encoding for its input in an unsupervised manner. In our case the inputs are the N different messages that we wish to transmit over the channel, and the encoding is the constellation diagram.\n",
    "\n",
    "For more information on autoencoders and constellation diagrams:\n",
    "https://en.wikipedia.org/wiki/Autoencoder \\\\\n",
    "https://en.wikipedia.org/wiki/Constellation_diagram"
   ]
  },
  {
   "cell_type": "code",
   "execution_count": 3,
   "metadata": {},
   "outputs": [
    {
     "ename": "ModuleNotFoundError",
     "evalue": "No module named 'tensorflow'",
     "output_type": "error",
     "traceback": [
      "\u001b[0;31m---------------------------------------------------------------------------\u001b[0m",
      "\u001b[0;31mModuleNotFoundError\u001b[0m                       Traceback (most recent call last)",
      "\u001b[0;32m<ipython-input-3-a4738e92c2b5>\u001b[0m in \u001b[0;36m<module>\u001b[0;34m\u001b[0m\n\u001b[1;32m      1\u001b[0m \u001b[0;31m# Importing packages we will use\u001b[0m\u001b[0;34m\u001b[0m\u001b[0;34m\u001b[0m\u001b[0;34m\u001b[0m\u001b[0m\n\u001b[0;32m----> 2\u001b[0;31m \u001b[0;32mimport\u001b[0m \u001b[0mtensorflow\u001b[0m \u001b[0;32mas\u001b[0m \u001b[0mtf\u001b[0m\u001b[0;34m\u001b[0m\u001b[0;34m\u001b[0m\u001b[0m\n\u001b[0m\u001b[1;32m      3\u001b[0m \u001b[0;32mfrom\u001b[0m \u001b[0mtensorflow\u001b[0m\u001b[0;34m.\u001b[0m\u001b[0mkeras\u001b[0m \u001b[0;32mimport\u001b[0m \u001b[0mlayers\u001b[0m\u001b[0;34m\u001b[0m\u001b[0;34m\u001b[0m\u001b[0m\n\u001b[1;32m      4\u001b[0m \u001b[0;32mimport\u001b[0m \u001b[0mnumpy\u001b[0m \u001b[0;32mas\u001b[0m \u001b[0mnp\u001b[0m\u001b[0;34m\u001b[0m\u001b[0;34m\u001b[0m\u001b[0m\n\u001b[1;32m      5\u001b[0m \u001b[0;32mfrom\u001b[0m \u001b[0mmatplotlib\u001b[0m\u001b[0;34m.\u001b[0m\u001b[0mpyplot\u001b[0m \u001b[0;32mimport\u001b[0m \u001b[0mscatter\u001b[0m\u001b[0;34m\u001b[0m\u001b[0;34m\u001b[0m\u001b[0m\n",
      "\u001b[0;31mModuleNotFoundError\u001b[0m: No module named 'tensorflow'"
     ]
    }
   ],
   "source": [
    "# Importing packages we will use\n",
    "import tensorflow as tf\n",
    "from tensorflow.keras import layers\n",
    "import numpy as np\n",
    "from matplotlib.pyplot import scatter\n",
    "\n",
    "# Disable tensorflow error messages\n",
    "tf.logging.set_verbosity(tf.logging.ERROR)\n",
    "# RUN THIS CELL AGAIN TO GET RID OF THE ERROR MESSAGES (IF ANY APPEAR)"
   ]
  },
  {
   "cell_type": "markdown",
   "metadata": {},
   "source": [
    "# Part 1: Communication system as an autoencoder\n",
    "\n",
    "In this part we demonstrate how a communication system (transmitter + channel + receiver) can be modelled as an autoencoder. We build an autoencoder model, train it, and then create a scatter plot of the encoded messages. The model for the autoencoder is very simple with only a few layers and nodes.\n",
    "\n",
    "We use a one-hot encoding on the input data and use Softmax loss i.e. our output layer has a softmax activation and we use cross-entropy loss. Another benefit of representing the messages with a one-hot encoding is that we can use an identity matrix as our data, both input and target, since the aim of an autoencoder is reconstruction of the input data."
   ]
  },
  {
   "cell_type": "code",
   "execution_count": 2,
   "metadata": {},
   "outputs": [],
   "source": [
    "# number of different messages N\n",
    "N = 8\n",
    "data = np.identity(N)"
   ]
  },
  {
   "cell_type": "code",
   "execution_count": 3,
   "metadata": {},
   "outputs": [],
   "source": [
    "# Here we build the actual model\n",
    "model = tf.keras.Sequential([\n",
    "    layers.Dense(32, activation=\"relu\", input_shape = (N,)),\n",
    "    layers.Dense(2, activation=\"linear\", name = \"channel_output\"), # This layer is used later to draw samples for plotting\n",
    "    layers.BatchNormalization(),\n",
    "    layers.GaussianNoise(0.1),\n",
    "    layers.Dense(32, activation=\"relu\"),\n",
    "    layers.Dense(N, activation=\"softmax\")\n",
    "])\n",
    "# Compile the model\n",
    "model.compile(optimizer = tf.keras.optimizers.Adam(0.01),\n",
    "             loss = \"categorical_crossentropy\")"
   ]
  },
  {
   "cell_type": "code",
   "execution_count": 4,
   "metadata": {},
   "outputs": [
    {
     "data": {
      "text/plain": [
       "<tensorflow.python.keras.callbacks.History at 0x7f60d42d1fd0>"
      ]
     },
     "execution_count": 4,
     "metadata": {},
     "output_type": "execute_result"
    }
   ],
   "source": [
    "# This cell trains the model, 500 epochs should be enough\n",
    "model.fit(data, data, epochs = 500, batch_size = N, verbose = 0)"
   ]
  },
  {
   "cell_type": "code",
   "execution_count": 5,
   "metadata": {},
   "outputs": [],
   "source": [
    "# Here we make a model to get the \"encoded\" outputs from the middle of the autoencoder so we can plot them\n",
    "channel_output_model = tf.keras.models.Model(inputs = model.input, outputs = model.get_layer(\"channel_output\").output)"
   ]
  },
  {
   "cell_type": "code",
   "execution_count": 6,
   "metadata": {},
   "outputs": [
    {
     "data": {
      "image/png": "[encoded data removed]",
      "text/plain": [
       "<Figure size 432x288 with 1 Axes>"
      ]
     },
     "metadata": {
      "needs_background": "light"
     },
     "output_type": "display_data"
    }
   ],
   "source": [
    "# This cell plots our constellation diagram\n",
    "output_data = channel_output_model.predict(data)\n",
    "# Number of samples for each point n\n",
    "n = 10\n",
    "\n",
    "for data_point in output_data:\n",
    "    x1 = np.repeat(data_point[0],n) + np.random.normal(scale = 0.1, size = n)\n",
    "    x2 = np.repeat(data_point[1],n) + np.random.normal(scale= 0.1, size = n)\n",
    "    scatter(x1,x2)"
   ]
  },
  {
   "cell_type": "markdown",
   "metadata": {},
   "source": [
    "The above scatter plot should show each sent message with different colours. Since tensorflow can't handle complex numbers our model actually has two real numbers in place of a single complex number, but the end result should be pretty identical."
   ]
  },
  {
   "cell_type": "markdown",
   "metadata": {},
   "source": [
    "# Part 2: Unknown Channel\n",
    "\n",
    "The obvious flaw with the approach in part 1 to learning a transmitter and a receiver is quite obvious: it requires the channel model to be differentiable, which in real life situations is pretty much never the case. If the channel model was not differentiable in part 1, then we could not use deep learning techniques(backpropagation) to learn the transmitter function. While the receiver could still be optimized on just the channel outputs, this would lead to subpar perfomance.\n",
    "\n",
    "A solution to learning an autoencoder over an unknown channel is presented in the research paper:\n",
    "\n",
    "_End-to-End Learning of Communications Systems Without a Channel Model_, by Fayçal Ait Aoudia and Jakob Hoydis, https://arxiv.org/pdf/1804.02276.pdf.\n",
    "\n",
    "Our solution, while inspired by the research paper, is a bit simpler. We simply split the autoencoder of part 1 into two, a transmitter and a receiver, that train alternatively. The training of the receiver is easy, it's a supervised learning task with the channel outputs as its inputs. The training of the transmitter is a bit trickier and is explained in pseudocode here:\n",
    "\n",
    "1. Generate transmitter output X, from identity matrix input\n",
    "2. Generate Xp, which is X with gaussian noise added\n",
    "3. Transmit X and Xp over the channel; Receive Y and Yp at the receiver\n",
    "4. Calculate loss for Y and Yp\n",
    "5. If loss for Yp is less than for Y, train transmitter with Xp as the target\n",
    "6. Else create new Xp, transmit it over the channel, and calculate loss again\n",
    "\n",
    "Then we just alternate the training of the transmitter and the receiver."
   ]
  },
  {
   "cell_type": "code",
   "execution_count": 7,
   "metadata": {},
   "outputs": [],
   "source": [
    "# Transmitter model\n",
    "transmitter = tf.keras.Sequential([\n",
    "    layers.Dense(32, activation=\"relu\", input_shape = (N,)),\n",
    "    layers.Dense(2, activation=\"linear\")\n",
    "])\n",
    "\n",
    "# Receiver model\n",
    "receiver = tf.keras.Sequential([\n",
    "    layers.Dense(32, activation=\"relu\"),\n",
    "    layers.Dense(N, activation=\"softmax\")\n",
    "])\n",
    "\n",
    "# Compile the models\n",
    "transmitter.compile(optimizer = tf.keras.optimizers.Adam(0.01), loss = \"mean_squared_error\")\n",
    "receiver.compile(optimizer = tf.keras.optimizers.Adam(0.01), loss = \"categorical_crossentropy\")\n",
    "\n",
    "# Channel transfer function\n",
    "def transmit(input):\n",
    "    return input + np.random.normal(size = input.shape)"
   ]
  },
  {
   "cell_type": "code",
   "execution_count": 8,
   "metadata": {},
   "outputs": [],
   "source": [
    "# Functions for alternative training of reveiver and the transmitter\n",
    "def train_receiver():\n",
    "    receiver_input = transmit(transmitter.predict(data))\n",
    "    receiver.fit(receiver_input, data, epochs = 1, batch_size = N, verbose = 0)\n",
    "\n",
    "def train_transmitter():\n",
    "    current_loss = receiver.evaluate(transmit(transmitter.predict(data)), data, verbose = 0)\n",
    "    x = transmitter.predict(data)\n",
    "    for i in range(20):\n",
    "        xp = x + np.random.normal(size = x.shape)\n",
    "        new_loss = receiver.evaluate(transmit(xp), data, verbose = 0)\n",
    "        # See if new input achieves a smaller loss\n",
    "        if new_loss < current_loss:\n",
    "            transmitter.fit(data, xp, epochs = 1, batch_size = N, verbose = 0)\n",
    "            return 1\n",
    "    return 0"
   ]
  },
  {
   "cell_type": "code",
   "execution_count": 9,
   "metadata": {},
   "outputs": [],
   "source": [
    "# Alternative training of the transmitter and the receiver, \n",
    "for i in range(500):\n",
    "    train_receiver()\n",
    "    train_transmitter()"
   ]
  },
  {
   "cell_type": "code",
   "execution_count": 10,
   "metadata": {},
   "outputs": [
    {
     "data": {
      "image/png": "[encoded data removed]",
      "text/plain": [
       "<Figure size 432x288 with 1 Axes>"
      ]
     },
     "metadata": {
      "needs_background": "light"
     },
     "output_type": "display_data"
    }
   ],
   "source": [
    "# Print results\n",
    "temp = transmitter.predict(data)\n",
    "# Number of samples for each point n\n",
    "n = 10\n",
    "\n",
    "for data_point in temp:\n",
    "    x1 = np.repeat(data_point[0],n) + np.random.normal(size = n)\n",
    "    x2 = np.repeat(data_point[1],n) + np.random.normal(size = n)\n",
    "    scatter(x1,x2)"
   ]
  },
  {
   "cell_type": "markdown",
   "metadata": {},
   "source": [
    "The above scatter plot should look pretty similiar to the scatter plot of part 1, with the messages being in distinct clusters. It also proves that our model does learn to encode and decode messages over the unknown channel."
   ]
  },
  {
   "cell_type": "markdown",
   "metadata": {},
   "source": [
    "# Conclusions\n",
    "\n",
    "This project was pretty much just a demonstration of a concept, that is of learning a communication scheme over an unknown channel model using deep leaning techniques. There is however a major problem with the technique:\n",
    "-  We actually require a reliable channel between the transmitter and the receiver during training, to tell the transmitter whether the loss on Xp is less than the loss on X\n",
    "\n",
    "The authors of https://arxiv.org/pdf/1804.02276.pdf, however say that they are working on a training method that does not require a feedback channel, but until such a method is developed, this technique of learning a communication scheme is not really usable in real world scenarios that lack them."
   ]
  }
 ],
 "metadata": {
  "kernelspec": {
   "display_name": "Python 3",
   "language": "python",
   "name": "python3"
  },
  "language_info": {
   "codemirror_mode": {
    "name": "ipython",
    "version": 3
   },
   "file_extension": ".py",
   "mimetype": "text/x-python",
   "name": "python",
   "nbconvert_exporter": "python",
   "pygments_lexer": "ipython3",
   "version": "3.6.9"
  }
 },
 "nbformat": 4,
 "nbformat_minor": 4
}
